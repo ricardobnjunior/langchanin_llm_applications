{
 "cells": [
  {
   "cell_type": "markdown",
   "id": "160694a9-d8af-48a4-a37e-3a62ae80db52",
   "metadata": {},
   "source": [
    "# 1.0 - Document Loading and QA Retrieval\n",
    "\n",
    "Nos códigos anteriores, utilizamos LLMs treinadas para alguns experimentos mais iniciais, desde a utilização de um prompt definido, até a utilização de um chatbot com memória suficiente para armazenar as conversas.\n",
    "No arquivo atual, vamos avançar para próximo nível: Vamos ser capazes de treinar utilizar uma IA em nossos próprios documentos, trazendo informações deles.\n",
    "\n",
    "Para isto, precisamos de um arquivo de  texto para que possamos importar e fazer as perguntas. Para este este documento, vamos utilizar o texto \"President Biden’s State of the Union Address\n",
    ". Mas fique a vontade para utilizar qualquer um de sua preferencia.\""
   ]
  },
  {
   "cell_type": "code",
   "execution_count": 1,
   "id": "67f5d0da-ad35-4eea-afdd-e9d4262fd011",
   "metadata": {},
   "outputs": [],
   "source": [
    "from langchain import OpenAI\n",
    "from langchain.document_loaders import TextLoader\n",
    "from langchain.text_splitter import RecursiveCharacterTextSplitter\n",
    "from langchain.embeddings.openai import OpenAIEmbeddings\n",
    "from langchain.vectorstores import Chroma\n",
    "from langchain.chains import RetrievalQA\n",
    "\n",
    "import warnings\n",
    "from dotenv import load_dotenv\n",
    "load_dotenv()\n",
    "warnings.filterwarnings('ignore')"
   ]
  },
  {
   "cell_type": "code",
   "execution_count": 3,
   "id": "21d14b0a-52a2-4508-9664-081979f2a386",
   "metadata": {},
   "outputs": [],
   "source": [
    "loader = TextLoader('documents/doc.txt', autodetect_encoding=True)\n",
    "documents = loader.load()"
   ]
  },
  {
   "cell_type": "markdown",
   "id": "e1c25ec6-09ac-4643-817f-3056c99ed91c",
   "metadata": {},
   "source": [
    "#### 1.1 - Split documents into smaller sections, as lengthy texts may exceed the model's maximum processing capacity."
   ]
  },
  {
   "cell_type": "code",
   "execution_count": 8,
   "id": "ea00ba0b-2d83-46c8-87a5-b2f670bdc4b9",
   "metadata": {},
   "outputs": [],
   "source": [
    "text_splitter = RecursiveCharacterTextSplitter(chunk_size=1000, chunk_overlap=200)\n",
    "texts = text_splitter.split_documents(documents)\n",
    "\n",
    "embeddings = OpenAIEmbeddings()\n",
    "store = Chroma.from_documents(texts, embeddings, collection_name=\"state-of-the-union\")"
   ]
  },
  {
   "cell_type": "code",
   "execution_count": 9,
   "id": "20264299-1a44-4d32-816b-78e2bbdba376",
   "metadata": {},
   "outputs": [],
   "source": [
    "llm = OpenAI(temperature=0)\n",
    "chain = RetrievalQA.from_chain_type(llm, retriever = store.as_retriever())"
   ]
  },
  {
   "cell_type": "code",
   "execution_count": 10,
   "id": "754edbd2-2993-489c-8a7f-8bdbbf2931c4",
   "metadata": {},
   "outputs": [
    {
     "name": "stdout",
     "output_type": "stream",
     "text": [
      " Biden talked about the Brent Spence Bridge in Kentucky, which crosses the Ohio River and is in need of repairs. He also mentioned meeting a young woman named Saria from Ohio who is a member of the Iron workers Local 44 and is excited to work on the bridge project. Additionally, Biden mentioned the $1.6 billion commitment for the project and the importance of investing in American infrastructure and creating jobs.\n"
     ]
    }
   ],
   "source": [
    "print(chain.run(\"What did Buden talk about Ohio\"))"
   ]
  },
  {
   "cell_type": "code",
   "execution_count": null,
   "id": "4003cb2a-6c90-4f78-b30d-78fcf4f87682",
   "metadata": {},
   "outputs": [],
   "source": []
  }
 ],
 "metadata": {
  "kernelspec": {
   "display_name": "Python 3 (ipykernel)",
   "language": "python",
   "name": "python3"
  },
  "language_info": {
   "codemirror_mode": {
    "name": "ipython",
    "version": 3
   },
   "file_extension": ".py",
   "mimetype": "text/x-python",
   "name": "python",
   "nbconvert_exporter": "python",
   "pygments_lexer": "ipython3",
   "version": "3.11.2"
  }
 },
 "nbformat": 4,
 "nbformat_minor": 5
}
